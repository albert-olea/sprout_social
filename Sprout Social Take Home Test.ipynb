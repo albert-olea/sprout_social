{
 "cells": [
  {
   "cell_type": "markdown",
   "metadata": {},
   "source": [
    "## Problem One"
   ]
  },
  {
   "cell_type": "code",
   "execution_count": 1,
   "metadata": {},
   "outputs": [],
   "source": [
    "###---Import Libraries---\n",
    "import pandas as pd\n",
    "import datetime\n",
    "import matplotlib\n",
    "import numpy as np"
   ]
  },
  {
   "cell_type": "code",
   "execution_count": 2,
   "metadata": {},
   "outputs": [],
   "source": [
    "###---Import csv's from hard drive---\n",
    "# Note that we can directly import from SQL using mysql but for this case, we will use csv's saved onto our hard drive \n",
    "\n",
    "df_customer = pd.read_csv('sprout_test_tables/customer.csv')\n",
    "df_customer_logins = pd.read_csv('sprout_test_tables/customer_logins.csv')\n",
    "df_login_history = pd.read_csv('sprout_test_tables/login_history.csv')\n"
   ]
  },
  {
   "cell_type": "code",
   "execution_count": 3,
   "metadata": {},
   "outputs": [],
   "source": [
    "#---Convert login_date to 'days' when users logged in---\n",
    "\n",
    "df_login_history['date_time'] = pd.to_datetime(df_login_history['login_date'])\n",
    "df_login_history['day_logged_in'] = df_login_history['date_time'].dt.day_name()\n",
    "df_login_history = df_login_history.drop(columns =['date_time'])\n"
   ]
  },
  {
   "cell_type": "code",
   "execution_count": 4,
   "metadata": {},
   "outputs": [],
   "source": [
    "#daily customer login rates\n",
    "#merge customer_id with df_login_history\n",
    "df_one = df_login_history.merge(df_customer_logins, how='left', on='login_id')\n",
    "df_two = df_one.merge(df_customer, how='left', on= 'customer_id')\n",
    "\n",
    "#remove duplicate customer logins for each day (this will exclude instances where multiple users \n",
    "#are logging in under the same customer account)\n",
    "df_active_customers = df_two.groupby([\"login_date\",\"day_logged_in\", \"customer_id\",\"sprout_base_plan\" ], \n",
    "                                     sort=False, as_index=False)[\"customer_id\"].first()"
   ]
  },
  {
   "cell_type": "code",
   "execution_count": 5,
   "metadata": {},
   "outputs": [
    {
     "name": "stdout",
     "output_type": "stream",
     "text": [
      "Our average daily login rate for the month of April is 37.015751383567476 percent\n"
     ]
    }
   ],
   "source": [
    "# count distinct customer id logins per login date and respective day of the week\n",
    "count = df_active_customers.groupby(['login_date', 'day_logged_in']).size().reset_index(name='customer_logins')\n",
    "count['active_user_percent'] = (count['customer_logins'] / df_customer['customer_id'].count()) *100\n",
    "\n",
    "# Find average daily login rate of April by summing customer_logins column and dividing result by \n",
    "#(total customers * numberof columns)\n",
    "april_login_rate = 100 * count['customer_logins'].sum() / (df_customer['customer_id'].count() * \n",
    "                                                           count['customer_logins'].count())\n",
    "print('Our average daily login rate for the month of April is ' + str(april_login_rate) + ' percent')\n",
    "\n"
   ]
  },
  {
   "cell_type": "code",
   "execution_count": 6,
   "metadata": {},
   "outputs": [
    {
     "name": "stdout",
     "output_type": "stream",
     "text": [
      "Our average daily login rate for weekends is 14.929757343550447 percent\n",
      "Our average daily login rate for weekdays is 48.05874840357599 percent\n"
     ]
    }
   ],
   "source": [
    "#comparing april weekend login rate average vs weekday login rate average\n",
    "\n",
    "#seperate login rate df into customer login dataframes by day\n",
    "count_group = count.groupby(count.day_logged_in)\n",
    "sunday = count_group.get_group(\"Sunday\")\n",
    "saturday = count_group.get_group(\"Saturday\")\n",
    "friday = count_group.get_group(\"Friday\")\n",
    "thursday = count_group.get_group(\"Thursday\")\n",
    "wednesday = count_group.get_group(\"Wednesday\")\n",
    "tuesday = count_group.get_group(\"Tuesday\")\n",
    "monday = count_group.get_group(\"Monday\")\n",
    "\n",
    "#calculate weekday and weekend customer login averages for the month\n",
    "weekend = sunday.append(saturday)\n",
    "weekend_login_rate = 100 * weekend['customer_logins'].sum() / (df_customer['customer_id'].count() * \n",
    "                                                           weekend['customer_logins'].count())\n",
    "print('Our average daily login rate for weekends is ' + str(weekend_login_rate) + ' percent')\n",
    "\n",
    "weekday = friday.append([thursday, wednesday, tuesday, monday])\n",
    "weekday_login_rate = 100 * weekday['customer_logins'].sum() / (df_customer['customer_id'].count() * \n",
    "                                                           weekday['customer_logins'].count())\n",
    "print('Our average daily login rate for weekdays is ' + str(weekday_login_rate) + ' percent')"
   ]
  },
  {
   "cell_type": "code",
   "execution_count": 7,
   "metadata": {},
   "outputs": [
    {
     "name": "stdout",
     "output_type": "stream",
     "text": [
      "Our average daily login rate for Sundays is 15.862068965517242 percent\n",
      "Our average daily login rate for Saturdays is 13.997445721583652 percent\n",
      "Our average daily login rate for Fridays is 42.87994891443167 percent\n",
      "Our average daily login rate for Thursdays is 48.40357598978289 percent\n",
      "Our average daily login rate for Wednesdays is 49.87228607918263 percent\n",
      "Our average daily login rate for Tuesdays is 49.265644955300125 percent\n",
      "Our average daily login rate for Mondays is 49.87228607918263 percent\n"
     ]
    }
   ],
   "source": [
    "#show customer login rates for each day of the week during April\n",
    "sunday_login_rate = 100 * sunday['customer_logins'].sum() / (df_customer['customer_id'].count() * \n",
    "                                                           sunday['customer_logins'].count())\n",
    "saturday_login_rate = 100 * saturday['customer_logins'].sum() / (df_customer['customer_id'].count() * \n",
    "                                                           saturday['customer_logins'].count())\n",
    "friday_login_rate = 100 * friday['customer_logins'].sum() / (df_customer['customer_id'].count() * \n",
    "                                                           friday['customer_logins'].count())\n",
    "thursday_login_rate = 100 * thursday['customer_logins'].sum() / (df_customer['customer_id'].count() * \n",
    "                                                           thursday['customer_logins'].count())\n",
    "wednesday_login_rate = 100 * wednesday['customer_logins'].sum() / (df_customer['customer_id'].count() * \n",
    "                                                           wednesday['customer_logins'].count())\n",
    "tuesday_login_rate = 100 * tuesday['customer_logins'].sum() / (df_customer['customer_id'].count() * \n",
    "                                                           tuesday['customer_logins'].count())\n",
    "monday_login_rate = 100 * monday['customer_logins'].sum() / (df_customer['customer_id'].count() * \n",
    "                                                           monday['customer_logins'].count())\n",
    "\n",
    "print('Our average daily login rate for Sundays is ' + str(sunday_login_rate) + ' percent')\n",
    "print('Our average daily login rate for Saturdays is ' + str(saturday_login_rate) + ' percent')\n",
    "print('Our average daily login rate for Fridays is ' + str(friday_login_rate) + ' percent')\n",
    "print('Our average daily login rate for Thursdays is ' + str(thursday_login_rate) + ' percent')\n",
    "print('Our average daily login rate for Wednesdays is ' + str(wednesday_login_rate) + ' percent')\n",
    "print('Our average daily login rate for Tuesdays is ' + str(tuesday_login_rate) + ' percent')\n",
    "print('Our average daily login rate for Mondays is ' + str(monday_login_rate) + ' percent')"
   ]
  },
  {
   "cell_type": "code",
   "execution_count": 8,
   "metadata": {},
   "outputs": [
    {
     "data": {
      "text/plain": [
       "<AxesSubplot:>"
      ]
     },
     "execution_count": 8,
     "metadata": {},
     "output_type": "execute_result"
    },
    {
     "data": {
      "image/png": "[encoded data removed]",
      "text/plain": [
       "<Figure size 432x288 with 1 Axes>"
      ]
     },
     "metadata": {
      "needs_background": "light"
     },
     "output_type": "display_data"
    }
   ],
   "source": [
    "#graph number of customer logins per day\n",
    "df_active_customers['login_date'].value_counts().sort_index().plot.bar()\n",
    "\n",
    "#note that user logins are most frequent during weekdays and average weekly logins increase towards the end of the month"
   ]
  },
  {
   "cell_type": "markdown",
   "metadata": {},
   "source": [
    "## Problem Two"
   ]
  },
  {
   "cell_type": "code",
   "execution_count": 9,
   "metadata": {},
   "outputs": [
    {
     "data": {
      "text/plain": [
       "<AxesSubplot:xlabel='login_date'>"
      ]
     },
     "execution_count": 9,
     "metadata": {},
     "output_type": "execute_result"
    },
    {
     "data": {
      "image/png": "[encoded data removed]",
      "text/plain": [
       "<Figure size 432x288 with 1 Axes>"
      ]
     },
     "metadata": {
      "needs_background": "light"
     },
     "output_type": "display_data"
    }
   ],
   "source": [
    "#graph total logins over time\n",
    "total_logins = pd.DataFrame(df_login_history.groupby('login_date')['num_logins'].sum())\n",
    "total_logins.plot.bar()"
   ]
  },
  {
   "cell_type": "code",
   "execution_count": 10,
   "metadata": {},
   "outputs": [
    {
     "data": {
      "text/plain": [
       "<AxesSubplot:xlabel='day_logged_in'>"
      ]
     },
     "execution_count": 10,
     "metadata": {},
     "output_type": "execute_result"
    },
    {
     "data": {
      "image/png": "[encoded data removed]",
      "text/plain": [
       "<Figure size 432x288 with 1 Axes>"
      ]
     },
     "metadata": {
      "needs_background": "light"
     },
     "output_type": "display_data"
    }
   ],
   "source": [
    "#total user logins by day over the month of April\n",
    "total_logins_day = pd.DataFrame(df_login_history.groupby('day_logged_in')['num_logins'].sum())\n",
    "total_logins_day.loc[['Monday', 'Tuesday', 'Wednesday', 'Thursday', 'Friday', 'Saturday', 'Sunday']].plot.bar()\n"
   ]
  },
  {
   "cell_type": "code",
   "execution_count": 11,
   "metadata": {
    "scrolled": false
   },
   "outputs": [
    {
     "data": {
      "text/plain": [
       "<AxesSubplot:xlabel='login_date'>"
      ]
     },
     "execution_count": 11,
     "metadata": {},
     "output_type": "execute_result"
    },
    {
     "data": {
      "image/png": "[encoded data removed]",
      "text/plain": [
       "<Figure size 432x288 with 1 Axes>"
      ]
     },
     "metadata": {
      "needs_background": "light"
     },
     "output_type": "display_data"
    }
   ],
   "source": [
    "#total logins by plan type\n",
    "total_logins_plan = pd.DataFrame(df_two.groupby('sprout_base_plan')['num_logins'].sum())\n",
    "\n",
    "dx = df_two.reset_index().pivot_table(aggfunc = np.sum,dropna='False', index = 'login_date',\n",
    "                                  columns = 'sprout_base_plan', values = 'num_logins' )\n",
    "dx.fillna(0)\n",
    "dx['Deluxe'].plot.bar(stacked=True)\n",
    "#dx['Enterprise'].plot.bar(stacked=True)\n",
    "#dx['Premium'].plot.bar(stacked=True)\n",
    "#dx['Team'].plot.bar(stacked=True)\n"
   ]
  },
  {
   "cell_type": "markdown",
   "metadata": {},
   "source": [
    "## Problem 3"
   ]
  },
  {
   "cell_type": "code",
   "execution_count": 12,
   "metadata": {},
   "outputs": [
    {
     "data": {
      "text/plain": [
       "array([[<AxesSubplot:title={'center':'num_logins'}>]], dtype=object)"
      ]
     },
     "execution_count": 12,
     "metadata": {},
     "output_type": "execute_result"
    },
    {
     "data": {
      "image/png": "[encoded data removed]",
      "text/plain": [
       "<Figure size 432x288 with 1 Axes>"
      ]
     },
     "metadata": {
      "needs_background": "light"
     },
     "output_type": "display_data"
    }
   ],
   "source": [
    "#total logins by customer\n",
    "#get login numbers for each customer \n",
    "total_logins_customer = pd.DataFrame(df_two.groupby('customer_id')['num_logins'].sum())\n",
    "#plot histogram to show cumulative distribution\n",
    "total_logins_customer.hist(cumulative=True, density=1, bins=100)"
   ]
  },
  {
   "cell_type": "code",
   "execution_count": 16,
   "metadata": {},
   "outputs": [
    {
     "name": "stdout",
     "output_type": "stream",
     "text": [
      "Customers needed to reach 90% of total logins: 491\n"
     ]
    }
   ],
   "source": [
    "#how many customers account for 90% of logins\n",
    "#sort total_logins_customer ascending and sum num_logins until 90% of total is reached\n",
    "total_logins_customer = total_logins_customer.sort_values(by=['num_logins'], ascending = False)\n",
    "\n",
    "#count number of customer ids until we reach 90% of total \n",
    "total_customers = total_logins_customer.iloc[0:491].sum()\n",
    "print('Customers needed to reach 90% of total logins: ' + str(491))"
   ]
  }
 ],
 "metadata": {
  "kernelspec": {
   "display_name": "Python 3",
   "language": "python",
   "name": "python3"
  },
  "language_info": {
   "codemirror_mode": {
    "name": "ipython",
    "version": 3
   },
   "file_extension": ".py",
   "mimetype": "text/x-python",
   "name": "python",
   "nbconvert_exporter": "python",
   "pygments_lexer": "ipython3",
   "version": "3.8.5"
  }
 },
 "nbformat": 4,
 "nbformat_minor": 4
}
